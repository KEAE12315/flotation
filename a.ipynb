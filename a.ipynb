{
 "cells": [
  {
   "cell_type": "code",
   "execution_count": 11,
   "source": [
    "from mlp import *\n",
    "import pandas as pd\n",
    "import torch\n",
    "df = pd.read_csv('dataset/feed.csv', index_col=0)\n",
    "df = df.drop(columns=['X1', 'date'])\n",
    "\n",
    "s=[1,2]\n",
    "print(s.__len__())\n",
    "\n"
   ],
   "outputs": [
    {
     "output_type": "stream",
     "name": "stdout",
     "text": [
      "2\n"
     ]
    }
   ],
   "metadata": {}
  }
 ],
 "metadata": {
  "orig_nbformat": 4,
  "language_info": {
   "name": "python",
   "version": "3.8.2",
   "mimetype": "text/x-python",
   "codemirror_mode": {
    "name": "ipython",
    "version": 3
   },
   "pygments_lexer": "ipython3",
   "nbconvert_exporter": "python",
   "file_extension": ".py"
  },
  "kernelspec": {
   "name": "python3",
   "display_name": "Python 3.8.2 64-bit ('.venv': venv)"
  },
  "interpreter": {
   "hash": "63602ea6e4415d9df7b95b9314864a592c08c8f403b9597060a712db08d24948"
  }
 },
 "nbformat": 4,
 "nbformat_minor": 2
}