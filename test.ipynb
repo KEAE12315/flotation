{
 "cells": [
  {
   "cell_type": "code",
   "execution_count": null,
   "metadata": {},
   "outputs": [],
   "source": [
    "# 配置日志\n",
    "import logging\n",
    "import logging.config\n",
    "import yaml\n",
    "with open('.conf/logging.yml', 'r') as f_conf:\n",
    "    dict_conf = yaml.safe_load(f_conf)\n",
    "logging.config.dictConfig(dict_conf)\n",
    "\n",
    "filepath='logs/'\n",
    "del_list = os.listdir(filepath)\n",
    "for f in del_list:\n",
    "    file_path = os.path.join(filepath, f)\n",
    "    if os.path.isfile(file_path):\n",
    "        os.remove(file_path)\n"
   ]
  },
  {
   "cell_type": "code",
   "execution_count": null,
   "metadata": {},
   "outputs": [],
   "source": [
    "from DPC import DPCLink\n",
    "from load import *\n",
    "import folium\n",
    "from folium.plugins import HeatMap\n",
    "import matplotlib.pyplot as plt\n",
    "import itertools\n",
    "\n",
    "# 读取文件为迭代器, 可指定读取数量\n",
    "dataset_path = 'dataset/Geolife Trajectories 1.3/Data/001/'\n",
    "dataset = enumerate(itertools.islice(LoadG(dataset_path), 0, None))\n",
    "\n",
    "# 读取数据\n",
    "ls = []\n",
    "dfs = pd.DataFrame()\n",
    "for i, df in dataset:\n",
    "    df['trackID'] = i + 1\n",
    "    dfs = pd.concat([dfs, df], ignore_index=True)\n",
    "dfs.reset_index(drop=True)\n",
    "dfs.plot.scatter(x='lng', y='lat', s=0.0001)\n",
    "\n",
    "# 可视化轨迹在地图上\n",
    "m = folium.Map(location=[39.984094, 116.319236], zoom_start=16)\n",
    "ls = []\n",
    "dataset = enumerate(itertools.islice(LoadG(dataset_path), 0, None))\n",
    "for i, df in dataset:\n",
    "    l = [[lat, lng]for [lat, lng, *_] in df.values]\n",
    "    folium.PolyLine(l, weight=0.4).add_to(m)\n",
    "    ls.extend(l)\n",
    "HeatMap(ls).add_to(m)\n",
    "m.save('map/df.html')\n",
    "\n",
    "# 初始化类, 后续运算都通过此类操作\n",
    "dpc = DPCLink(dfs)\n",
    "\n",
    "dpc.calDis()\n"
   ]
  },
  {
   "cell_type": "code",
   "execution_count": null,
   "metadata": {},
   "outputs": [],
   "source": [
    "\n",
    "dpc.calDc(p=0.01)\n",
    "dpc.calRho()\n",
    "\n",
    "dpc.calDel()\n",
    "dpc.calGam()\n",
    "dpc.getCen(10)\n",
    "\n",
    "dpc.cluster()\n"
   ]
  },
  {
   "cell_type": "code",
   "execution_count": null,
   "metadata": {},
   "outputs": [],
   "source": [
    "fig, ax = plt.subplots(figsize=(2, 2), dpi=500)\n",
    "dpc.df.plot.scatter(x='lng', y='lat', c='clusterID', colormap='tab20', s=0.2,alpha=0.3, linewidths=0, ax=ax)\n",
    "dpc.df.iloc[dpc.centers].plot.scatter(x='lng', y='lat', c='red', s=0.1, ax=ax)\n",
    "ax.get_xaxis().set_visible(False)\n",
    "ax.get_yaxis().set_visible(False)\n",
    "\n",
    "m = folium.Map(location=[39.984094, 116.319236], zoom_start=16)\n",
    "ls = []\n",
    "dataset = enumerate(itertools.islice(LoadG(dataset_path), 0, 50))\n",
    "for i, df in dataset:\n",
    "    l = [[lat, lng]for [lat, lng, *_] in df.values]\n",
    "    folium.PolyLine(l, weight=0.4).add_to(m)\n",
    "    ls.extend(l)\n",
    "HeatMap(ls).add_to(m)\n",
    "\n",
    "for p in dpc.centers:\n",
    "    folium.Marker([dpc.df.loc[p, 'lat'], dpc.df.loc[p, 'lng']]).add_to(m)\n",
    "m.save('map/df.html')\n"
   ]
  },
  {
   "cell_type": "code",
   "execution_count": null,
   "metadata": {},
   "outputs": [],
   "source": [
    "fig, ax = plt.subplots(figsize=(2, 2), dpi=500)\n",
    "# dpc.df.plot.scatter(x='lng', y='lat', c='clusterID', colormap='tab20', s=0.5, edgecolors='none', ax=ax)\n",
    "dfs.plot.scatter(x='lng', y='lat', s=0.1, alpha=0.1, linewidths=0, ax=ax)\n",
    "\n",
    "p = dpc.df.iloc[6382]\n",
    "ax.scatter(p.lng, p.lat, c='red', s=0.1)\n",
    "# dpc.df.iloc[dpc.centers].plot.scatter(x='lng', y='lat', s=0.1, c='red', ax=ax)\n",
    "\n",
    "ax.get_xaxis().set_visible(False)\n",
    "ax.get_yaxis().set_visible(False)\n"
   ]
  }
 ],
 "metadata": {
  "interpreter": {
   "hash": "29d8ed5e21f205e36c63a8d42436731c2c32d63c1b57352790bb1759787c255f"
  },
  "kernelspec": {
   "display_name": "Python 3.8.10 ('.venv': pipenv)",
   "language": "python",
   "name": "python3"
  },
  "language_info": {
   "codemirror_mode": {
    "name": "ipython",
    "version": 3
   },
   "file_extension": ".py",
   "mimetype": "text/x-python",
   "name": "python",
   "nbconvert_exporter": "python",
   "pygments_lexer": "ipython3",
   "version": "3.8.10"
  },
  "orig_nbformat": 4
 },
 "nbformat": 4,
 "nbformat_minor": 2
}
